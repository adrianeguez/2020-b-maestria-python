{
 "cells": [
  {
   "cell_type": "code",
   "execution_count": 1,
   "metadata": {},
   "outputs": [
    {
     "name": "stdout",
     "output_type": "stream",
     "text": [
      "Hola :) \n"
     ]
    }
   ],
   "source": [
    "# Funcion\n",
    "# Sin Parametros, No devuelve nada\n",
    "def imprimir_hola():\n",
    "    print(\"Hola :) \")\n",
    "imprimir_hola()"
   ]
  },
  {
   "cell_type": "code",
   "execution_count": 2,
   "metadata": {},
   "outputs": [
    {
     "name": "stdout",
     "output_type": "stream",
     "text": [
      "Mi nombre es: Adrian\n"
     ]
    }
   ],
   "source": [
    "# Con parametros, No Devuelve nada\n",
    "def imprimir_nombre(nombre):\n",
    "    print(f\"Mi nombre es: {nombre}\")\n",
    "imprimir_nombre(\"Adrian\")"
   ]
  },
  {
   "cell_type": "code",
   "execution_count": 4,
   "metadata": {},
   "outputs": [
    {
     "data": {
      "text/plain": [
       "3"
      ]
     },
     "execution_count": 4,
     "metadata": {},
     "output_type": "execute_result"
    }
   ],
   "source": [
    "def suma_dos_numeros(num_uno, num_dos):\n",
    "    resultado = num_uno + num_dos\n",
    "    return resultado\n",
    "suma_dos_numeros(1,2)"
   ]
  },
  {
   "cell_type": "code",
   "execution_count": 5,
   "metadata": {},
   "outputs": [
    {
     "name": "stdout",
     "output_type": "stream",
     "text": [
      "Azul\n",
      "pik-2924\n",
      "2000\n",
      "Hyundai\n"
     ]
    }
   ],
   "source": [
    "# Named Parameters\n",
    "def imprimir_carro(color, placa, anio, marca):\n",
    "    print(color)\n",
    "    print(placa)\n",
    "    print(anio)\n",
    "    print(marca)\n",
    "imprimir_carro(\"Azul\", \"pik-2924\", 2000, \"Hyundai\")"
   ]
  },
  {
   "cell_type": "code",
   "execution_count": 6,
   "metadata": {},
   "outputs": [
    {
     "name": "stdout",
     "output_type": "stream",
     "text": [
      "Rojo\n",
      "mxn-2983\n",
      "1996\n",
      "Ford\n"
     ]
    }
   ],
   "source": [
    "imprimir_carro(\n",
    "    placa = \"mxn-2983\",\n",
    "    marca = \"Ford\",\n",
    "    anio = 1996,\n",
    "    color = \"Rojo\"\n",
    ")# imprimir_carro(\"Blanco\", \"kxw-123\", marca = \"Lada\", anio = 1283)"
   ]
  },
  {
   "cell_type": "code",
   "execution_count": 9,
   "metadata": {},
   "outputs": [
    {
     "name": "stdout",
     "output_type": "stream",
     "text": [
      "Universidad EPN\n",
      "Universidad ESPE\n"
     ]
    }
   ],
   "source": [
    "# Parametros por defecto\n",
    "def imprimir_universidad(universidad = \"EPN\"):\n",
    "    print(f\"Universidad {universidad}\")\n",
    "imprimir_universidad()\n",
    "imprimir_universidad(\"ESPE\")"
   ]
  },
  {
   "cell_type": "code",
   "execution_count": 13,
   "metadata": {},
   "outputs": [
    {
     "name": "stdout",
     "output_type": "stream",
     "text": [
      "<class 'tuple'>\n"
     ]
    },
    {
     "data": {
      "text/plain": [
       "7"
      ]
     },
     "execution_count": 13,
     "metadata": {},
     "output_type": "execute_result"
    }
   ],
   "source": [
    "# Parametros infinitos\n",
    "def sumar_numeros(num_uno, *numeros_restantes):\n",
    "    print(type(numeros_restantes))\n",
    "    resultado = num_uno\n",
    "    for numero in numeros_restantes:\n",
    "        resultado = resultado + numero\n",
    "    return resultado\n",
    "sumar_numeros(1,2,4)"
   ]
  },
  {
   "cell_type": "code",
   "execution_count": null,
   "metadata": {},
   "outputs": [],
   "source": []
  },
  {
   "cell_type": "code",
   "execution_count": null,
   "metadata": {},
   "outputs": [],
   "source": []
  },
  {
   "cell_type": "code",
   "execution_count": null,
   "metadata": {},
   "outputs": [],
   "source": []
  },
  {
   "cell_type": "code",
   "execution_count": null,
   "metadata": {},
   "outputs": [],
   "source": []
  },
  {
   "cell_type": "code",
   "execution_count": null,
   "metadata": {},
   "outputs": [],
   "source": []
  },
  {
   "cell_type": "code",
   "execution_count": null,
   "metadata": {},
   "outputs": [],
   "source": []
  },
  {
   "cell_type": "code",
   "execution_count": null,
   "metadata": {},
   "outputs": [],
   "source": []
  },
  {
   "cell_type": "code",
   "execution_count": null,
   "metadata": {},
   "outputs": [],
   "source": []
  },
  {
   "cell_type": "code",
   "execution_count": null,
   "metadata": {},
   "outputs": [],
   "source": []
  },
  {
   "cell_type": "code",
   "execution_count": null,
   "metadata": {},
   "outputs": [],
   "source": []
  },
  {
   "cell_type": "code",
   "execution_count": null,
   "metadata": {},
   "outputs": [],
   "source": []
  }
 ],
 "metadata": {
  "kernelspec": {
   "display_name": "Python 3",
   "language": "python",
   "name": "python3"
  },
  "language_info": {
   "codemirror_mode": {
    "name": "ipython",
    "version": 3
   },
   "file_extension": ".py",
   "mimetype": "text/x-python",
   "name": "python",
   "nbconvert_exporter": "python",
   "pygments_lexer": "ipython3",
   "version": "3.8.3"
  }
 },
 "nbformat": 4,
 "nbformat_minor": 4
}
