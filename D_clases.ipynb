{
 "cells": [
  {
   "cell_type": "code",
   "execution_count": 5,
   "metadata": {},
   "outputs": [
    {
     "name": "stdout",
     "output_type": "stream",
     "text": [
      "\n",
      "EPN\n",
      "\n",
      "ESPE\n",
      "EPN\n",
      "Ecuador\n",
      "1234\n",
      "ESPE\n",
      "Ecuador\n",
      "1234\n"
     ]
    }
   ],
   "source": [
    "# Clases\n",
    "class UniversidadEcuatoriana():\n",
    "    nombre = '' # Atributo Publico\n",
    "    pais = 'Ecuador' # Atributo Publico\n",
    "    __codigo_escondido = '1234' # Atributo Privado\n",
    "    \n",
    "    def __init__(self, nombre = 'EPN'): # self = this, __init__ constructor\n",
    "        print(self.nombre)\n",
    "        self.nombre = nombre\n",
    "        print(self.nombre)\n",
    "    \n",
    "    def imprimir(self):\n",
    "        print(self.nombre)\n",
    "        print(self.pais)\n",
    "        print(self.__codigo_escondido)\n",
    "    \n",
    "\n",
    "epn = UniversidadEcuatoriana()\n",
    "espe = UniversidadEcuatoriana('ESPE')\n",
    "\n",
    "epn.imprimir()\n",
    "espe.imprimir()"
   ]
  },
  {
   "cell_type": "code",
   "execution_count": null,
   "metadata": {},
   "outputs": [],
   "source": [
    "# Denme un seg me llamaron de la Facu w8"
   ]
  }
 ],
 "metadata": {
  "kernelspec": {
   "display_name": "Python 3",
   "language": "python",
   "name": "python3"
  },
  "language_info": {
   "codemirror_mode": {
    "name": "ipython",
    "version": 3
   },
   "file_extension": ".py",
   "mimetype": "text/x-python",
   "name": "python",
   "nbconvert_exporter": "python",
   "pygments_lexer": "ipython3",
   "version": "3.7.6"
  }
 },
 "nbformat": 4,
 "nbformat_minor": 4
}
