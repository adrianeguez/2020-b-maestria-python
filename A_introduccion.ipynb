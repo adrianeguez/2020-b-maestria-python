{
 "cells": [
  {
   "cell_type": "markdown",
   "metadata": {},
   "source": [
    "# Titulo principal\n",
    "## Titulo Secundario\n",
    "\n",
    "-  Uno\n",
    "-  Dos\n",
    "-  Tres\n",
    "\n",
    "Hola amigos\n",
    "\n",
    "1. Lunes\n",
    "2. Martes\n",
    "3. Miercoles\n",
    "\n",
    "Me gusta `Python` y **Typescript**. Codigo HTML:\n",
    "\n",
    "```html\n",
    "<h1>Otro ejemplo de codigo</h1>\n",
    "```\n",
    "Codigo Python:\n",
    "\n",
    "```python\n",
    "print(\"Hola mundo\")\n",
    "```\n",
    "\n",
    "### Shift + Enter nueva celda\n"
   ]
  },
  {
   "cell_type": "code",
   "execution_count": null,
   "metadata": {},
   "outputs": [],
   "source": []
  },
  {
   "cell_type": "code",
   "execution_count": null,
   "metadata": {},
   "outputs": [],
   "source": []
  },
  {
   "cell_type": "code",
   "execution_count": null,
   "metadata": {},
   "outputs": [],
   "source": []
  },
  {
   "cell_type": "code",
   "execution_count": null,
   "metadata": {},
   "outputs": [],
   "source": []
  },
  {
   "cell_type": "code",
   "execution_count": null,
   "metadata": {},
   "outputs": [],
   "source": []
  },
  {
   "cell_type": "code",
   "execution_count": null,
   "metadata": {},
   "outputs": [],
   "source": []
  }
 ],
 "metadata": {
  "kernelspec": {
   "display_name": "Python 3",
   "language": "python",
   "name": "python3"
  },
  "language_info": {
   "codemirror_mode": {
    "name": "ipython",
    "version": 3
   },
   "file_extension": ".py",
   "mimetype": "text/x-python",
   "name": "python",
   "nbconvert_exporter": "python",
   "pygments_lexer": "ipython3",
   "version": "3.8.3"
  }
 },
 "nbformat": 4,
 "nbformat_minor": 4
}
